{
  "nbformat": 4,
  "nbformat_minor": 2,
  "metadata": {
    "colab": {
      "name": "Pranctice_3_KM-01_<name>.ipynb",
      "provenance": [],
      "collapsed_sections": []
    },
    "kernelspec": {
      "name": "python3",
      "display_name": "Python 3.9.7 64-bit (system)"
    },
    "language_info": {
      "name": "python",
      "version": "3.9.7",
      "mimetype": "text/x-python",
      "codemirror_mode": {
        "name": "ipython",
        "version": 3
      },
      "pygments_lexer": "ipython3",
      "nbconvert_exporter": "python",
      "file_extension": ".py"
    },
    "interpreter": {
      "hash": "03685ba28a55b517be6c1603809463dc54805d9bc3b56f00ff381802eceb3708"
    }
  },
  "cells": [
    {
      "cell_type": "markdown",
      "source": [
        "# **Курс \"Програмування на мові Python\"**"
      ],
      "metadata": {
        "id": "1bRxWHr5e8kt"
      }
    },
    {
      "cell_type": "markdown",
      "source": [
        "## **Практичне зайняття №4**\n",
        "### Тема: \"Перші програми на Python. Введення та виведення даних. Інструкція if\""
      ],
      "metadata": {
        "id": "buZUwUgFe-kx"
      }
    },
    {
      "cell_type": "markdown",
      "source": [
        "### **Завдання 1 (1,5 бали)**\n",
        "\n"
      ],
      "metadata": {
        "id": "PUkxEn8EfAUe"
      }
    },
    {
      "cell_type": "markdown",
      "source": [
        "**Написати програму введення та виведення даних про одержувача листа (посилки) за стандартами Укрпошти.**\n",
        "\n",
        "1. Усі запити на введення даних повинні супроводжуватись відповідними підказками-поясненнями (бажано англійською мовою).\n",
        "\n",
        "2. Дані мають виводитись так, як показано нижче (з урахуванням кількості рядків та послідовності даних у кожному з них).\n",
        "\n",
        "3. Дані, виділені жирним шрифтом, повинні вводитись із клавіатури. Всього має бути 9 окремих команд введення даних\n",
        "\n",
        "4. Назви змінних повинні бути інформативними та оформленими відповідно до правил іменування змінних\n",
        "\n",
        "5. Додати 2 коментарі, що вказують на блоки введення та виведення даних.\n",
        "\n",
        "***Формат виведення даних:***\n",
        "\n",
        "(1) **Ім'я** (2) **Прізвище**\n",
        "\n",
        "(3) **Номер телефону**\n",
        "\n",
        "Str. (4) **Назва вулиці** (5) **Номер будинку**, ap. (6) **Номер квартири**, (7) **Місто**\n",
        "\n",
        "(8) **Індекс**\n",
        "\n",
        "(9) **Країна**\n",
        "\n",
        "***Приклад виведення:***\n",
        "\n",
        "*Lucas Diallo*\n",
        "\n",
        "*3221234567*\n",
        "\n",
        "*Str. Longue 3, ap. 5, Bruxelles*\n",
        "\n",
        "*1020*\n",
        "\n",
        "*Belgium*"
      ],
      "metadata": {
        "id": "M7jjwxAvfKa2"
      }
    },
    {
      "cell_type": "code",
      "execution_count": 1,
      "source": [
        "#below we make variables for input\r\n",
        "name = input('Enter your name: ')\r\n",
        "surname = input('Enter your surname')\r\n",
        "number = input('Enter your phone number: ')\r\n",
        "street = input('Enter your street name:')\r\n",
        "building = input('Enter your building number')\r\n",
        "apartment = input('Enter your apartment number')\r\n",
        "city = input('Enter your city name')\r\n",
        "postcode = input('Enter your postcode:')\r\n",
        "country = input('Enter the name of your country:')\r\n",
        "#then the data entered in the variable will be displayed\r\n",
        "print(\"{} {}\\n{}\\nStr.{} {},ap.{} {}\\n{}\\n{}\".format(name,surname,number,street,building,apartment,city,postcode,country))"
      ],
      "outputs": [
        {
          "output_type": "stream",
          "name": "stdout",
          "text": [
            "str\n"
          ]
        }
      ],
      "metadata": {
        "id": "hEJG5C3_fJk9"
      }
    },
    {
      "cell_type": "markdown",
      "source": [
        "### **Завдання 2 (1,5 бали)**"
      ],
      "metadata": {
        "id": "WmnpKrmPf689"
      }
    },
    {
      "cell_type": "markdown",
      "source": [
        "Шкала Фудзіти — шкала, що використовується для класифікації торнадо за швидкістю вітру і за завданою шкодою.\n",
        "\n",
        "Scale | km/h | Potential damage\n",
        "--- | --- | ---\n",
        "EF0 | 0 - 137 | Minor\n",
        "EF1 | 137 – 177 | Moderate\n",
        "EF2 | 177 – 217 | Considerable\n",
        "EF3 | 217 – 266 | Severe\n",
        "EF4 | 266 - 322 | Devastating\n",
        "EF5 | 322 - ... | Incredible\n",
        "\n",
        "Напишіть програму, яка буде зчитувати швидкість вітру, введену користувачем (у км/год), та виводити відповідну потенційну шкоду як частину змістовного повідомлення. Наприклад, якщо користувач вводить швидкість вітру 248, ваша програма повинна показати, що потенційна шкода є серйозною (severe). Програма також повинна виводити повідомлення про помилку, якщо користувач введе від'ємне число."
      ],
      "metadata": {
        "id": "4n4p_pz7gFKM"
      }
    },
    {
      "cell_type": "code",
      "execution_count": null,
      "source": [
        "print('enter wind speed in km/year: ', end = '')\r\n",
        "speed = int(input())\r\n",
        "if speed < 0:\r\n",
        "     print(\"Error, please enter a number greater than 0\")\r\n",
        "elif speed >= 0 and speed < 137:\r\n",
        "    print(\"minor\")\r\n",
        "elif speed >137 and speed < 177:\r\n",
        "    print(\"moderate\")\r\n",
        "elif speed >177 and speed < 217:\r\n",
        "    print (\"considerable\")\r\n",
        "elif speed > 217 and speed < 266:\r\n",
        "    print (\"severe\")\r\n",
        "elif speed >266 and speed < 322:\r\n",
        "    print (\"devastating\")\r\n",
        "elif speed > 322:\r\n",
        "    print (\"incredible\")"
      ],
      "outputs": [],
      "metadata": {}
    },
    {
      "cell_type": "markdown",
      "source": [
        "### **Завдання 3 (бонусне, 1 бал)**"
      ],
      "metadata": {
        "id": "X8fC_GM_nMRi"
      }
    },
    {
      "cell_type": "markdown",
      "source": [
        "Часто говорять, що один календарний рік еквівалентний 7 рокам для собаки. Однак таке просте перетворення не враховує того, що собаки досягають повноліття приблизно у 2 роки. Тому деякі люди вважать, що краще рахувати кожен з перших двох календарних років як 10,5 років для собаки, а потім рахувати кожен наступний календарний рік як 4 роки для собаки.\n",
        "\n",
        "Напишіть програму, яка конвертує календарні роки у \"собачі\", як було показано в попередньому абзаці. Переконайтесь, що ваша програма працює правильно, конвертуючи перші два календарні роки та всі подальші. Ваша програма також повинна виводити повідомлення про помилку, якщо користувач введе від'ємне число."
      ],
      "metadata": {
        "id": "b593txPwotgN"
      }
    },
    {
      "cell_type": "code",
      "execution_count": null,
      "source": [
        "age = int(input(\"Enter your age: \"))\r\n",
        "if age < 0:\r\n",
        "    print (\"Error, please enter a number greater than 0\")\r\n",
        "\r\n",
        "dogYears = 0\r\n",
        "\r\n",
        "if age >= 2:\r\n",
        "    dogYears += 21\r\n",
        "    age -= 2\r\n",
        "elif age == 1:\r\n",
        "    dogYears += 10.5\r\n",
        "    age -= 1\r\n",
        "\r\n",
        "dogYears += age*4\r\n",
        "\r\n",
        "print(f\"Dog`s years: {dogYears}\")\r\n",
        "\r\n"
      ],
      "outputs": [],
      "metadata": {
        "id": "PA_E_H0Zosu0"
      }
    }
  ]
}